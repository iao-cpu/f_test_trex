{
 "cells": [
  {
   "cell_type": "code",
   "execution_count": null,
   "id": "9b03ec90-9970-469a-bea5-216764a835b4",
   "metadata": {},
   "outputs": [],
   "source": [
    "print(\"Vil du se verdens dødeligste vits?\")\n",
    "while True:\n",
    "    try:\n",
    "        svar = str(input(\"svar : \"))\n",
    "        break\n",
    "    except ValueError:\n",
    "        print(\"Neivel, så vil du ikke det\")"
   ]
  },
  {
   "cell_type": "code",
   "execution_count": null,
   "id": "4239bf3a-ffab-47b8-8385-2390f5a424f5",
   "metadata": {},
   "outputs": [],
   "source": [
    "if svar=='ja':\n",
    "    print('Wenn ist das Nunstück git und Slotermeyer? Ja! Beiherhund das Oder die Flipperwaldt gersput!')\n",
    "else:\n",
    "    print('en annen gang da, kanskje?')"
   ]
  },
  {
   "cell_type": "code",
   "execution_count": null,
   "id": "994f4ac1-72e5-4912-bf93-0106e3a28061",
   "metadata": {},
   "outputs": [],
   "source": [
    "#MontyPython\n",
    "#https://en.wikipedia.org/wiki/The_Funniest_Joke_in_the_World"
   ]
  }
 ],
 "metadata": {
  "kernelspec": {
   "display_name": "Python3",
   "language": "python",
   "name": "python3"
  },
  "language_info": {
   "codemirror_mode": {
    "name": "ipython",
    "version": 3
   },
   "file_extension": ".py",
   "mimetype": "text/x-python",
   "name": "python",
   "nbconvert_exporter": "python",
   "pygments_lexer": "ipython3",
   "version": "3.10.8"
  }
 },
 "nbformat": 4,
 "nbformat_minor": 5
}
